{
 "cells": [
  {
   "cell_type": "code",
   "execution_count": 1,
   "metadata": {},
   "outputs": [],
   "source": [
    "import websockets\n",
    "import asyncio"
   ]
  },
  {
   "cell_type": "markdown",
   "metadata": {},
   "source": [
    "The following is the backend processor service. It receives a message from the frontend (nodes A and B) and returns the result, i.e. the shortest path between the requested nodes."
   ]
  },
  {
   "cell_type": "code",
   "execution_count": null,
   "metadata": {},
   "outputs": [],
   "source": [
    "import IndoorGraph as ig\n",
    "# import IndoorGraph.Error as IGError\n",
    "from IndoorGraphConfig import *"
   ]
  },
  {
   "cell_type": "code",
   "execution_count": null,
   "metadata": {},
   "outputs": [
    {
     "name": "stdout",
     "output_type": "stream",
     "text": [
      "< 1:3\n",
      "\n",
      "['1', '2', '3'] \n",
      "> Shortest path is ['1', '2', '3']!\n"
     ]
    }
   ],
   "source": [
    "async def processor(websocket, path):\n",
    "    nodes = await websocket.recv()\n",
    "    print(\"< {}\".format(nodes))\n",
    "    node_source, node_target = nodes.split(':')\n",
    "    # try:\n",
    "    graph = ig.create_graph('test_graph.json')\n",
    "    print(graph)\n",
    "    path = ig.compute_shortest_path(graph, (node_source, node_target))\n",
    "    print(path, graph)\n",
    "    reply = \"The shortest path is {}!\".format(path)\n",
    "    # except Exception as e:\n",
    "    #    reply = str(e)\n",
    "        \n",
    "    await websocket.send(reply)\n",
    "    print(\"> {}\".format(reply))    \n",
    "    \n",
    "start_server = websockets.serve(processor, HOST_NAME, PORT)\n",
    "\n",
    "asyncio.get_event_loop().run_until_complete(start_server)\n",
    "asyncio.get_event_loop().run_forever()"
   ]
  },
  {
   "cell_type": "code",
   "execution_count": null,
   "metadata": {},
   "outputs": [],
   "source": []
  }
 ],
 "metadata": {
  "kernelspec": {
   "display_name": "Python 3",
   "language": "python",
   "name": "python3"
  },
  "language_info": {
   "codemirror_mode": {
    "name": "ipython",
    "version": 3
   },
   "file_extension": ".py",
   "mimetype": "text/x-python",
   "name": "python",
   "nbconvert_exporter": "python",
   "pygments_lexer": "ipython3",
   "version": "3.5.1"
  }
 },
 "nbformat": 4,
 "nbformat_minor": 1
}
