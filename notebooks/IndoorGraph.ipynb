{
 "cells": [
  {
   "cell_type": "code",
   "execution_count": 9,
   "metadata": {},
   "outputs": [],
   "source": [
    "import networkx as nx\n",
    "import json"
   ]
  },
  {
   "cell_type": "code",
   "execution_count": 10,
   "metadata": {},
   "outputs": [],
   "source": [
    "class Error(Exception):\n",
    "    pass"
   ]
  },
  {
   "cell_type": "code",
   "execution_count": 11,
   "metadata": {},
   "outputs": [],
   "source": [
    "def compute_shortest_path(G, nodes):\n",
    "    path = nx.dijkstra_path(G, nodes[0], nodes[1])\n",
    "    return path"
   ]
  },
  {
   "cell_type": "code",
   "execution_count": 17,
   "metadata": {},
   "outputs": [],
   "source": [
    "def create_graph(path):\n",
    "    G = nx.Graph()\n",
    "    with open(path) as f:\n",
    "        graph_dict = json.load(f, parse_int=str)\n",
    "        G.add_weighted_edges_from(graph_dict)\n",
    "    # G.add_edge(1, 2, weight=10)  # weight describes length in meters\n",
    "    # G.add_edge(2, 3, weight=10)  # weight describes length in meters\n",
    "    return G"
   ]
  },
  {
   "cell_type": "code",
   "execution_count": 18,
   "metadata": {},
   "outputs": [],
   "source": [
    "def test_this():\n",
    "    G = create_graph('test_graph.json')\n",
    "    path = compute_shortest_path(G, ('1','3'))\n",
    "    path_graph = G.subgraph(path)\n",
    "    assert path == ['1','2','3']"
   ]
  },
  {
   "cell_type": "code",
   "execution_count": 20,
   "metadata": {},
   "outputs": [],
   "source": [
    "# test_this()"
   ]
  }
 ],
 "metadata": {
  "kernelspec": {
   "display_name": "Python 3",
   "language": "python",
   "name": "python3"
  },
  "language_info": {
   "codemirror_mode": {
    "name": "ipython",
    "version": 3
   },
   "file_extension": ".py",
   "mimetype": "text/x-python",
   "name": "python",
   "nbconvert_exporter": "python",
   "pygments_lexer": "ipython3",
   "version": "3.5.1"
  }
 },
 "nbformat": 4,
 "nbformat_minor": 2
}
