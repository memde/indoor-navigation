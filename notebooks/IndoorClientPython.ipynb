{
 "cells": [
  {
   "cell_type": "code",
   "execution_count": 1,
   "metadata": {},
   "outputs": [],
   "source": [
    "import asyncio\n",
    "import websockets"
   ]
  },
  {
   "cell_type": "code",
   "execution_count": 2,
   "metadata": {},
   "outputs": [],
   "source": [
    "from IndoorGraphConfig import *"
   ]
  },
  {
   "cell_type": "code",
   "execution_count": 5,
   "metadata": {},
   "outputs": [
    {
     "name": "stdout",
     "output_type": "stream",
     "text": [
      "Enter node A:1\n",
      "Enter node B:3\n",
      "> (1,3)\n",
      "< Shortest path is ['1', '2', '3']!\n"
     ]
    }
   ],
   "source": [
    "async def client():\n",
    "    async with websockets.connect('ws://{0}:{1}'.format(HOST_NAME, PORT)) as websocket:\n",
    "        node_a = input(\"Enter node A:\")\n",
    "        node_b = input(\"Enter node B:\")\n",
    "        await websocket.send('{}:{}'.format(node_a, node_b))\n",
    "        print(\"> ({},{})\".format(node_a, node_b))\n",
    "\n",
    "        path = await websocket.recv()\n",
    "        print(\"< {}\".format(path))\n",
    "\n",
    "asyncio.get_event_loop().run_until_complete(client())"
   ]
  }
 ],
 "metadata": {
  "kernelspec": {
   "display_name": "Python 3",
   "language": "python",
   "name": "python3"
  },
  "language_info": {
   "codemirror_mode": {
    "name": "ipython",
    "version": 3
   },
   "file_extension": ".py",
   "mimetype": "text/x-python",
   "name": "python",
   "nbconvert_exporter": "python",
   "pygments_lexer": "ipython3",
   "version": "3.5.1"
  }
 },
 "nbformat": 4,
 "nbformat_minor": 2
}
